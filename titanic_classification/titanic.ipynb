{
 "cells": [
  {
   "cell_type": "markdown",
   "id": "ecbbc2a2",
   "metadata": {},
   "source": [
    "# Titanic Comptetion\n",
    "\n",
    "## Introduction\n",
    "\n",
    "This competition revolves around a classification problem for the titanic dataset. Apparently, not everyone on the titanic ship died during the horrifying event you all know. Although it seems that people should have survived at random, there seems to have been a correlation between certain attributes of the passengers and their chance of survival!\n",
    "Here are some of these attributes:\n",
    "\n",
    "| **Attribute**  |              **Description**           | **Column in dataset**  |\n",
    "|----------------|:---------------------------------------|:-----------------------|\n",
    "|  Ticket class  |  Three possible classes: 1st, 2nd, 3rd |        *pclass*        |\n",
    "|     Gender     |  The sex of the passenger              |         *sex*          |\n",
    "|      Age       |  Age of the passenger in years         |         *age*          |\n",
    "|   Siblings     |  *Number* of siblings aboard Titanic   |         *sibsp*        |\n",
    "|    Parents     |  *Number* of parents aboard Titani     |         *parch*        |\n",
    "|     Ticket     |  Ticket number of the passenger        |         *ticket*       |\n",
    "|      Fare      |  Passenger fare                        |         *fare*         |\n",
    "|      Cabin     |  Cabin number of the passenger         |         *cabin*        |\n",
    "| Port of entry  |  The station at which passneger boarded|         *embarked*     |\n",
    "\n"
   ]
  },
  {
   "cell_type": "code",
   "execution_count": null,
   "id": "1d50cd43",
   "metadata": {},
   "outputs": [],
   "source": []
  }
 ],
 "metadata": {
  "kernelspec": {
   "display_name": "Python 3 (ipykernel)",
   "language": "python",
   "name": "python3"
  },
  "language_info": {
   "codemirror_mode": {
    "name": "ipython",
    "version": 3
   },
   "file_extension": ".py",
   "mimetype": "text/x-python",
   "name": "python",
   "nbconvert_exporter": "python",
   "pygments_lexer": "ipython3",
   "version": "3.10.2"
  }
 },
 "nbformat": 4,
 "nbformat_minor": 5
}
