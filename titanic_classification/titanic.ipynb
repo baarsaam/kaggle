{
 "cells": [
  {
   "cell_type": "markdown",
   "id": "207a59b6",
   "metadata": {},
   "source": [
    "# Titanic Comptetion\n",
    "\n",
    "## 1. Introduction\n",
    "\n",
    "### 1.1. Problem Statement\n",
    "\n",
    "This competition revolves around a classification problem for the titanic dataset. Apparently, not everyone on the titanic ship died during the horrifying event you all know. Although it seems that people should have survived at random, there seems to have been a correlation between certain attributes of the passengers and their chance of survival!\n",
    "Here are some of these attributes:\n",
    "\n",
    "| **Attribute**  |              **Description**           | **Column in dataset**  |\n",
    "|----------------|:---------------------------------------|:-----------------------|\n",
    "|  Ticket class  |  Three possible classes: 1st, 2nd, 3rd |        *pclass*        |\n",
    "|     Gender     |  The sex of the passenger              |         *sex*          |\n",
    "|      Age       |  Age of the passenger in years         |         *age*          |\n",
    "|   Siblings     |  *Number* of siblings aboard Titanic   |         *sibsp*        |\n",
    "|    Parents     |  *Number* of parents aboard Titani     |         *parch*        |\n",
    "|     Ticket     |  Ticket number of the passenger        |         *ticket*       |\n",
    "|      Fare      |  Passenger fare                        |         *fare*         |\n",
    "|      Cabin     |  Cabin number of the passenger         |         *cabin*        |\n",
    "| Port of entry  |  The station at which passneger boarded|         *embarked*     |\n",
    "\n",
    "### 1.2. Dataset\n",
    "\n",
    "There are two ```.csv``` files to this problem which are placed in the ```./data/``` directory:\n",
    "\n",
    "- **train.csv**: which contains the attributes in the above table along with an extra column called *survived* which indicates whether the passenger has survived or not (1 for survived and 0 for not survivied). This dataset is meant to be used for model trainig.\n",
    "- **test.csv**: which contains only the attributes of the above table without the *survived* column since this dataset is meant for testing the model and the answers for it are hidden. The performance of your model on this dataset will be used to rank the model in the competition.\n",
    "\n",
    "### 1.3. Output\n",
    "\n",
    "The output of the model is the answers it gives for the examples provided in test.csv file. Therefore, the output is a ```.csv``` file that contains two columns:\n",
    "\n",
    "- **PassengerID**: which is the passenger ID of the passengers in the test.csv file.\n",
    "- **Survived**: which is 1 for people who survived and 0 otherwise. These values are the predictions given by the trained model."
   ]
  },
  {
   "cell_type": "code",
   "execution_count": null,
   "id": "6c8fb4de",
   "metadata": {},
   "outputs": [],
   "source": []
  }
 ],
 "metadata": {
  "kernelspec": {
   "display_name": "Python 3 (ipykernel)",
   "language": "python",
   "name": "python3"
  },
  "language_info": {
   "codemirror_mode": {
    "name": "ipython",
    "version": 3
   },
   "file_extension": ".py",
   "mimetype": "text/x-python",
   "name": "python",
   "nbconvert_exporter": "python",
   "pygments_lexer": "ipython3",
   "version": "3.10.2"
  }
 },
 "nbformat": 4,
 "nbformat_minor": 5
}
